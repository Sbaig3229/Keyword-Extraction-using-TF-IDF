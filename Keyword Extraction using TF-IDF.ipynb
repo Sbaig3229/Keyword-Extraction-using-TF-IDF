{
  "cells": [
    {
      "cell_type": "code",
      "execution_count": null,
      "metadata": {
        "id": "Fwj8qVFGXs5y",
        "outputId": "2eb8a94f-0226-4739-c1f3-eb23bf7fa24d",
        "colab": {
          "base_uri": "https://localhost:8080/"
        }
      },
      "outputs": [
        {
          "output_type": "stream",
          "name": "stdout",
          "text": [
            "Schema:\n",
            "\n",
            " Link           object\n",
            "Title          object\n",
            "Description    object\n",
            "dtype: object\n",
            "Number of questions,columns= (1070, 3)\n"
          ]
        }
      ],
      "source": [
        "import pandas as pd\n",
        "\n",
        "df_idf=pd.read_csv(\"Output_BBC.csv\")\n",
        "print(\"Schema:\\n\\n\",df_idf.dtypes)\n",
        "print(\"Number of questions,columns=\",df_idf.shape)\n"
      ]
    },
    {
      "cell_type": "code",
      "execution_count": null,
      "metadata": {
        "id": "2X24K_olXs57",
        "outputId": "2f53e03e-dbe1-4cc0-e2e5-d71d4a808013",
        "colab": {
          "base_uri": "https://localhost:8080/",
          "height": 53
        }
      },
      "outputs": [
        {
          "output_type": "execute_result",
          "data": {
            "text/plain": [
              "' we talk to plants they tell us how happy they are vertical farming growing plants indoors on stacked levels in a highly controlled environment allows higher yields show more'"
            ],
            "application/vnd.google.colaboratory.intrinsic+json": {
              "type": "string"
            }
          },
          "metadata": {},
          "execution_count": 10
        }
      ],
      "source": [
        "import re\n",
        "def pre_process(text):\n",
        "    \n",
        "    text=text.lower()\n",
        "    text=re.sub(\"</?.*?>\",\" <> \",text)\n",
        "    text=re.sub(\"(\\\\d|\\\\W)+\",\" \",text)\n",
        "    \n",
        "    return text\n",
        "\n",
        "df_idf['text'] = df_idf['Title'].astype(str) + df_idf['Description'].astype(str)\n",
        "df_idf['text'] = df_idf['text'].apply(lambda x:pre_process(x))\n",
        "\n",
        "df_idf['text'][2]"
      ]
    },
    {
      "cell_type": "markdown",
      "metadata": {
        "id": "Nez-fb_-Xs5-"
      },
      "source": [
        "Hmm, doesn't look very pretty with all the html in there, but that's the point. Even in such a mess we can extract some great stuff out of this. While you can eliminate all code from the text, we will keep the code sections for this tutorial for the sake of simplicity.  "
      ]
    },
    {
      "cell_type": "markdown",
      "metadata": {
        "id": "j6vLlYthXs5_"
      },
      "source": [
        "## Creating the IDF\n",
        "\n",
        "### CountVectorizer to create a vocabulary and generate word counts\n",
        "The next step is to start the counting process. We can use the CountVectorizer to create a vocabulary from all the text in our `df_idf['text']` and generate counts for each row in `df_idf['text']`. The result of the last two lines is a sparse matrix representation of the counts, meaning each column represents a word in the vocabulary and each row represents the document in our dataset where the values are the word counts. Note that with this representation, counts of some words could be 0 if the word did not appear in the corresponding document."
      ]
    },
    {
      "cell_type": "code",
      "execution_count": null,
      "metadata": {
        "id": "Dll3cKZqXs6B"
      },
      "outputs": [],
      "source": [
        "from sklearn.feature_extraction.text import CountVectorizer\n",
        "import re\n",
        "\n",
        "def get_stop_words(stop_file_path):    \n",
        "    with open(stop_file_path, 'r', encoding=\"utf-8\") as f:\n",
        "        stopwords = f.readlines()\n",
        "        stop_set = set(m.strip() for m in stopwords)\n",
        "        return frozenset(stop_set)\n",
        "\n",
        "stopwords=get_stop_words(\"stopwords.txt\")\n",
        "\n",
        "docs=df_idf['text'].tolist()\n",
        "\n",
        "cv=CountVectorizer(max_df=0.85,stop_words=stopwords)\n",
        "word_count_vector=cv.fit_transform(docs)"
      ]
    },
    {
      "cell_type": "code",
      "execution_count": null,
      "metadata": {
        "id": "dT51B4brXs6E",
        "outputId": "89891662-2c4f-4af5-8e9c-627e91ec7bdd",
        "colab": {
          "base_uri": "https://localhost:8080/"
        }
      },
      "outputs": [
        {
          "output_type": "execute_result",
          "data": {
            "text/plain": [
              "(1070, 22988)"
            ]
          },
          "metadata": {},
          "execution_count": 13
        }
      ],
      "source": [
        "word_count_vector.shape"
      ]
    },
    {
      "cell_type": "code",
      "execution_count": null,
      "metadata": {
        "id": "qBcX7VjOXs6J",
        "outputId": "873a4b9c-737a-4aa6-f939-5f0cb713513a"
      },
      "outputs": [
        {
          "data": {
            "text/plain": [
              "(20000, 10000)"
            ]
          },
          "execution_count": 5,
          "metadata": {},
          "output_type": "execute_result"
        }
      ],
      "source": [
        "cv=CountVectorizer(max_df=0.85,stop_words=stopwords,max_features=10000)\n",
        "word_count_vector=cv.fit_transform(docs)\n",
        "word_count_vector.shape"
      ]
    },
    {
      "cell_type": "code",
      "execution_count": null,
      "metadata": {
        "id": "-oTQ52ltXs6N",
        "outputId": "ee3fe917-c116-4d67-db1b-ddb04a7417a7",
        "colab": {
          "base_uri": "https://localhost:8080/"
        }
      },
      "outputs": [
        {
          "output_type": "execute_result",
          "data": {
            "text/plain": [
              "['pupils',\n",
              " 'data',\n",
              " 'spread',\n",
              " 'online',\n",
              " 'hereford',\n",
              " 'school',\n",
              " 'cyber',\n",
              " 'attackpupils',\n",
              " 'attack',\n",
              " 'published']"
            ]
          },
          "metadata": {},
          "execution_count": 15
        }
      ],
      "source": [
        "list(cv.vocabulary_.keys())[:10]"
      ]
    },
    {
      "cell_type": "markdown",
      "metadata": {
        "id": "pjJs6Ih4Xs6O"
      },
      "source": [
        "We can also get the vocabulary by using `get_feature_names()`"
      ]
    },
    {
      "cell_type": "code",
      "execution_count": null,
      "metadata": {
        "id": "dDECOZLjXs6P",
        "outputId": "ddca3a38-69ad-4d17-d1b8-45ec82ef9cb7",
        "colab": {
          "base_uri": "https://localhost:8080/"
        }
      },
      "outputs": [
        {
          "output_type": "stream",
          "name": "stderr",
          "text": [
            "/usr/local/lib/python3.7/dist-packages/sklearn/utils/deprecation.py:87: FutureWarning: Function get_feature_names is deprecated; get_feature_names is deprecated in 1.0 and will be removed in 1.2. Please use get_feature_names_out instead.\n",
            "  warnings.warn(msg, category=FutureWarning)\n"
          ]
        },
        {
          "output_type": "execute_result",
          "data": {
            "text/plain": [
              "['bid',\n",
              " 'bide',\n",
              " 'biden',\n",
              " 'bidenhow',\n",
              " 'bidens',\n",
              " 'bidensnihurivka',\n",
              " 'bids',\n",
              " 'bien',\n",
              " 'bigger',\n",
              " 'biggerstaff',\n",
              " 'biggest',\n",
              " 'biginagi',\n",
              " 'bigots',\n",
              " 'bigwigs',\n",
              " 'bigyn']"
            ]
          },
          "metadata": {},
          "execution_count": 16
        }
      ],
      "source": [
        "list(cv.get_feature_names())[2000:2015]"
      ]
    },
    {
      "cell_type": "code",
      "execution_count": null,
      "metadata": {
        "id": "Y7RQN6RXXs6R",
        "outputId": "7b321f52-7674-4146-d15f-b5fc0e12e588",
        "colab": {
          "base_uri": "https://localhost:8080/"
        }
      },
      "outputs": [
        {
          "output_type": "execute_result",
          "data": {
            "text/plain": [
              "TfidfTransformer()"
            ]
          },
          "metadata": {},
          "execution_count": 17
        }
      ],
      "source": [
        "from sklearn.feature_extraction.text import TfidfTransformer\n",
        "\n",
        "tfidf_transformer=TfidfTransformer(smooth_idf=True,use_idf=True)\n",
        "tfidf_transformer.fit(word_count_vector)"
      ]
    },
    {
      "cell_type": "markdown",
      "metadata": {
        "id": "PNUSZM1cXs6S"
      },
      "source": [
        "Let's look at some of the IDF values:"
      ]
    },
    {
      "cell_type": "code",
      "execution_count": null,
      "metadata": {
        "id": "OKwMaaJRXs6T",
        "outputId": "b1d4d3c8-8b74-4428-edcc-fd7b09ecd293",
        "colab": {
          "base_uri": "https://localhost:8080/"
        }
      },
      "outputs": [
        {
          "output_type": "execute_result",
          "data": {
            "text/plain": [
              "array([7.28320089, 6.59005371, 7.28320089, ..., 7.28320089, 7.28320089,\n",
              "       6.87773578])"
            ]
          },
          "metadata": {},
          "execution_count": 18
        }
      ],
      "source": [
        "tfidf_transformer.idf_"
      ]
    },
    {
      "cell_type": "code",
      "execution_count": null,
      "metadata": {
        "id": "PWBUrJS8Xs6V"
      },
      "outputs": [],
      "source": [
        "df_test=pd.read_csv(\"Output_BBC.csv\")\n",
        "df_test['text'] = df_test['Title'].astype(str) + df_test['Description'].astype(str)\n",
        "df_test['text'] =df_test['text'].apply(lambda x:pre_process(x))\n",
        "\n",
        "docs_test=df_test['text'].tolist()\n",
        "docs_title=df_test['Title'].tolist()\n",
        "docs_body=df_test['Description'].tolist()"
      ]
    },
    {
      "cell_type": "code",
      "execution_count": null,
      "metadata": {
        "id": "Od69cNqKXs6W"
      },
      "outputs": [],
      "source": [
        "def sort_coo(coo_matrix):\n",
        "    tuples = zip(coo_matrix.col, coo_matrix.data)\n",
        "    return sorted(tuples, key=lambda x: (x[1], x[0]), reverse=True)\n",
        "\n",
        "def extract_topn_from_vector(feature_names, sorted_items, topn=10):\n",
        "    \"\"\"get the feature names and tf-idf score of top n items\"\"\"\n",
        "    \n",
        "    #use only topn items from vector\n",
        "    sorted_items = sorted_items[:topn]\n",
        "\n",
        "    score_vals = []\n",
        "    feature_vals = []\n",
        "\n",
        "    for idx, score in sorted_items:\n",
        "        fname = feature_names[idx]\n",
        "        \n",
        "        #keep track of feature name and its corresponding score\n",
        "        score_vals.append(round(score, 3))\n",
        "        feature_vals.append(feature_names[idx])\n",
        "\n",
        "    #create a tuples of feature,score\n",
        "    #results = zip(feature_vals,score_vals)\n",
        "    results= {}\n",
        "    for idx in range(len(feature_vals)):\n",
        "        results[feature_vals[idx]]=score_vals[idx]\n",
        "    \n",
        "    return results"
      ]
    },
    {
      "cell_type": "code",
      "execution_count": null,
      "metadata": {
        "id": "rSRZCe6oXs6Y",
        "outputId": "f7a7f369-075f-4711-ca49-18f47e909553",
        "colab": {
          "base_uri": "https://localhost:8080/"
        }
      },
      "outputs": [
        {
          "output_type": "stream",
          "name": "stdout",
          "text": [
            "\n",
            "=====Title=====\n",
            "Pupils' data spread online in Hereford school cyber attack\n",
            "\n",
            "=====Body=====\n",
            "Pupils' data spread online in Hereford school cyber attack\n",
            "Published\n",
            "15 hours ago\n",
            "Share\n",
            "IMAGE SOURCE,\n",
            "GETTY IMAGES\n",
            "Image caption,\n",
            "Bishop of Hereford's Bluecoat School said it was working with police\n",
            "A cyber attack at a secondary school led to pupils' information being published online.\n",
            "West Mercia Police has launched an investigation into the breach on 9 October at Bishop of Hereford's Bluecoat School, in Hampton Dene Road.\n",
            "The school said it was taking the attack \"extremely seriously\" and was assisting the force with its inquiries.\n",
            "\"We have been open with our school community,\" it told BBC Hereford and Worcester.\n",
            "IMAGE SOURCE,\n",
            "GOOGLE\n",
            "Image caption,\n",
            "The school has said it is assisting police with their investigation into the breach\n",
            "Supt Ed Williams said: \"We're working with the school to establish the information that has been published to ensure any necessary safeguarding measures are put in place and any future risk is managed.\"\n",
            "In a statement, the school said: \"We are unable to make any further comment whilst the police investigate the organisation responsible for the cyberattack and breaching data from the school.\n",
            "\"The cyber police are in the process of investigating and taking the cyber-attack extremely seriously.\n",
            "\"We have been open with our school community and are continuing to assist the police in the ongoing investigation.\"\n",
            "Follow BBC West Midlands on Facebook, Twitter and Instagram. Send your story ideas to: newsonline.westmidlands@bbc.co.uk\n",
            "Related Internet Links\n",
            "West Mercia Police\n",
            "The Bishop of Hereford's Bluecoat School\n",
            "The BBC is not responsible for the content of external sites.\n",
            "Related Topics\n",
            "Hereford\n",
            "Cyber-security\n",
            "\n",
            "===Keywords===\n",
            "hereford 0.514\n",
            "school 0.458\n",
            "cyber 0.357\n",
            "police 0.226\n",
            "bluecoat 0.22\n",
            "bishop 0.169\n",
            "mercia 0.147\n",
            "attack 0.137\n",
            "assisting 0.128\n",
            "pupils 0.122\n"
          ]
        },
        {
          "output_type": "stream",
          "name": "stderr",
          "text": [
            "/usr/local/lib/python3.7/dist-packages/sklearn/utils/deprecation.py:87: FutureWarning: Function get_feature_names is deprecated; get_feature_names is deprecated in 1.0 and will be removed in 1.2. Please use get_feature_names_out instead.\n",
            "  warnings.warn(msg, category=FutureWarning)\n"
          ]
        }
      ],
      "source": [
        "# you only needs to do this once\n",
        "feature_names=cv.get_feature_names()\n",
        "\n",
        "# get the document that we want to extract keywords from\n",
        "doc=docs_test[0]\n",
        "\n",
        "#generate tf-idf for the given document\n",
        "tf_idf_vector=tfidf_transformer.transform(cv.transform([doc]))\n",
        "\n",
        "#sort the tf-idf vectors by descending order of scores\n",
        "sorted_items=sort_coo(tf_idf_vector.tocoo())\n",
        "\n",
        "#extract only the top n; n here is 10\n",
        "keywords=extract_topn_from_vector(feature_names,sorted_items,10)\n",
        "\n",
        "# now print the results\n",
        "print(\"\\n=====Title=====\")\n",
        "print(docs_title[0])\n",
        "print(\"\\n=====Body=====\")\n",
        "print(docs_body[0])\n",
        "print(\"\\n===Keywords===\")\n",
        "for k in keywords:\n",
        "    print(k,keywords[k])"
      ]
    },
    {
      "cell_type": "code",
      "execution_count": null,
      "metadata": {
        "id": "JzD7aqhoXs6b"
      },
      "outputs": [],
      "source": [
        "# put the common code into several methods\n",
        "def get_keywords(idx):\n",
        "\n",
        "    #generate tf-idf for the given document\n",
        "    tf_idf_vector=tfidf_transformer.transform(cv.transform([docs_test[idx]]))\n",
        "\n",
        "    #sort the tf-idf vectors by descending order of scores\n",
        "    sorted_items=sort_coo(tf_idf_vector.tocoo())\n",
        "\n",
        "    #extract only the top n; n here is 10\n",
        "    keywords=extract_topn_from_vector(feature_names,sorted_items,10)\n",
        "    \n",
        "    return keywords\n",
        "\n",
        "def print_results(idx,keywords):\n",
        "    # now print the results\n",
        "    print(\"\\n=====Title=====\")\n",
        "    print(docs_title[idx])\n",
        "    print(\"\\n=====Body=====\")\n",
        "    print(docs_body[idx])\n",
        "    print(\"\\n===Keywords===\")\n",
        "    for k in keywords:\n",
        "        print(k,keywords[k])\n",
        "\n"
      ]
    },
    {
      "cell_type": "code",
      "execution_count": null,
      "metadata": {
        "id": "yhLp891MXs6d",
        "outputId": "1465ec0b-e25f-4d50-a988-f70b9247566a",
        "colab": {
          "base_uri": "https://localhost:8080/"
        }
      },
      "outputs": [
        {
          "output_type": "stream",
          "name": "stdout",
          "text": [
            "\n",
            "=====Title=====\n",
            "The islands that want tourists as well as fish\n",
            "\n",
            "=====Body=====\n",
            "The islands that want tourists as well as fish\n",
            "Published\n",
            "6 August 2020\n",
            "Share\n",
            "IMAGE SOURCE,\n",
            "ADRIENNE MURRAY\n",
            "Image caption,\n",
            "The Faroe Islands are home to just 52,000 people\n",
            "By Adrienne Murray\n",
            "Business reporter, Faroe Islands\n",
            "Hundreds of miles from its nearest neighbour, the remote Faroe Islands are surrounded by the Atlantic Ocean. Fishing has always been a way of life, and fish accounts for 90% of all exported goods. But coronavirus is hitting efforts to increase tourism.\n",
            "The drive to the village of Glyvrar is nothing less than dramatic.\n",
            "The road from the airport winds past mountains and fjords, and passes through tunnels cut into hillsides and burrowed under the sea.\n",
            "Glyvrar is home to the Faroe Islands' largest firm, Bakkafrost - which farms salmon.\n",
            "At its state-of-art plant almost 60,000 tonnes of salmon is processed annually.\n",
            "IMAGE SOURCE,\n",
            "GETTY IMAGES\n",
            "Image caption,\n",
            "Fish is the country's biggest export\n",
            "The operation is highly mechanised, with conveyor belts carrying the fish through a series of machines until the finished product is packaged. Then robotic arms sort boxes ready for shipping.\n",
            "From hatcheries breeding juvenile salmon to a facility making fish feed, Bakkafrost has a foot in almost every tier of the industry. Even the company's branded Styrofoam boxes are manufactured on site, characteristic of the Faroe islanders' self-sufficiency.\n",
            "\"We were one of the first operations here in the early '80s,\" says chief executive, Regin Jacobsen. \"We saw that being in the middle of North Atlantic, the supplies and logistics to get our products to market were quite difficult.\"\n",
            "But there was also opportunity, he says. \"[We can] differentiate ourselves… and create high values.\"\n",
            "Globally, farming of Atlantic salmon has soared from 1.4m to 2.6m tonnes in a decade. Norway and Chile are the biggest producers by far, but Faroese salmon commands a premium price.\n",
            "IMAGE SOURCE,\n",
            "ADRIENNE MURRAY\n",
            "Image caption,\n",
            "Production at Bakkafrost is highly automated\n",
            "The Faroe Islands are located approximately 200 miles (320km) north of Scotland, and are an autonomous territory of Denmark. There are 18 main islands, and the population is just 52,000.\n",
            "Its salmon typically sells for 10% more than average market price because of a number of factors. These include the use of quality fishmeal, high farming standards, sustainability and avoidance of antibiotics.\n",
            "Mr Jacobsen says 15 years ago most of the country's salmon exports went to the European Union, but today it's sold around the world.\n",
            "Russia and the US are the biggest buyers. In 2014 Russia banned food imports from the EU, in retaliation to sanctions against it over Ukraine. However, the Faroe Islands is not in the EU, unlike Denmark, and saw its exports to Russia grow.\n",
            "Mr Jacobsen adds that sales have been boosted in recent years by the growing popularity of salmon sushi, and wider healthy eating trends.\n",
            "But as the coronavirus pandemic has sent shockwaves around the world they have been felt in the Faroe Islands.\n",
            "IMAGE SOURCE,\n",
            "ADRIENNE MURRAY\n",
            "Image caption,\n",
            "Salmon farms are located around the Faroe Islands\n",
            "Total Faroese exports fell 7% in the first quarter of this year, with sales to China falling a whopping 65% as Beijing temporarily froze many food imports.\n",
            "\"The Chinese market has been becoming a more and more important market,\" says Mr Jacobsen. \"For Bakkafrost it's even more important. Around 20% of our sales are in China in recent years.\"\n",
            "Conversely though, lockdown restrictions elsewhere have actually boosted business.\n",
            "\"We have very good growth both in the US and the European markets,\" says Mr Jacobsen. \"The supermarkets have had much higher sales than normal, because people are eating more at home.\"\n",
            "IMAGE SOURCE,\n",
            "ADRIENNE MURRAY\n",
            "Image caption,\n",
            "The Faroe Island's economy remains strong\n",
            "To protect its population and economy from coronavirus, the Faroe Islands has one of the highest testing rates worldwide, with a strong track and trace and quarantine strategy. And every person is tested on arrival in the country.\n",
            "This preparedness was partly thanks to its fisheries. A veterinary laboratory established years ago to monitor disease, was adapted early in January, ready to help test human samples.\n",
            "This has no doubt contributed to the fact that the territory has reported not a single death from Covid-19. And it has seen only 227 confirmed cases in total.\n",
            "Global Trade\n",
            "More from the BBC's series taking an international perspective on trade:\n",
            "Bulgarian lavender: The sweet smell of success\n",
            "Rules vs fear: What's delaying economic recovery?\n",
            "How Covid-19 hit the comedy industry\n",
            "Is rum about to become the new gin?\n",
            "With the Faroe Islands' economy in good shape, it's well-placed to weather any coronavirus headwinds, thinks Heri a Rogvi, chairman of the Faroe Islands' Economic Council.\n",
            "\"Corona has upset the economy a bit,\" says Mr Rogvi. \"But at the present time, we have an unemployment rate of 1.7%, which is extremely low. I think we're probably the economy in Europe that's doing the best.\"\n",
            "Led by its fish sector, which accounts for 20% of economic output, the Faroese economy has prospered. The most recent statistics show that its gross domestic product per capita (a country's economic output per person) totalled $58,950 (£45,102) in 2017. That is almost as high as the US ($59,958), and more than both the UK ($40,361) and France ($40,109).\n",
            "The territory also receives an annual subsidy from Denmark of about $100m. Keen to diversify their economy the Faroese have been targeting tourists in recent years, but visitor numbers are down sharply this year due to Covid-19.\n",
            "\"This is the only tour we do today. There's 14 people on the boat,\" says Gunnar Skuvadal, as he steers his motorboat, Froyur, towards the seabird cliffs near the town of Vestamanna. He usually runs tours from April, but the Faroe Islands only opened its borders in mid-June this year.\n",
            "IMAGE SOURCE,\n",
            "ADRIENNE MURRAY\n",
            "Image caption,\n",
            "Tourist numbers are down as a result of coronavirus\n",
            "\"On a normal day in June, we would have probably done three tours with fairly full boats, meaning about 40 people on each.\"\n",
            "Germans, Danes and \"staycationing\" locals are among the passengers on-board snapping pictures of sea-caves and nesting puffins.\n",
            "\"If I can get through the summer without doing a minus [making a loss], I think we should be satisfied,\" says Mr Skuvadal.\n",
            "In recent years tourism has thrived, attracting record visitors. Viral marketing campaigns like Google Sheepview, and 2019's \"Closed for maintenance\" campaign have put the Faroes on the tourist map.\n",
            "Last year the country saw 130,000 visitors. New air routes from New York and London were set to launch this year.\n",
            "\"We will probably only have 20-30% of the annual visitors we were supposed to have in 2020,\" says Gudrid Hoejgaard, director of Visit Faroe Islands. So it will really be a horrible year. But I'm quite positive for 2021.\"\n",
            "IMAGE SOURCE,\n",
            "VISIT FAROE ISLANDS\n",
            "Image caption,\n",
            "Gudrid Hoejgaard has led the drive to boost tourist numbers\n",
            "She adds: \"Tourism is still a small industry here [2% of the economy]. But it's broadening the labour market. It's created jobs in the service sector and creative area.\"\n",
            "The hope is that this economic diversification will encourage young islanders to stay rather than move abroad. A deep recession in the early 1990s saw thousands of people leave.\n",
            "Then in the early 2000s, unemployment rose sharply again when disease rocked the salmon industry. Of the dozens of salmon companies at the time, most went out of business.\n",
            "\"We're [still] quite vulnerable, but compared to where we were 15-20 years ago, it's much, much stronger at this time,\" says Mr Rogvi.\n",
            "\"There has been an ongoing struggle for, I think, at least 50 years to get the younger people to stay here.\"\n",
            "Many go to university abroad, and often don't return. But with improved job and education prospects that's begun to turnaround.\n",
            "Meanwhile, rising immigration, coupled with Europe's highest fertility rate, has seen the population climb to the already mentioned 52,000.\n",
            "\"For us that's an enormously high number,\" says Mr Rogvi.\n",
            "\n",
            "===Keywords===\n",
            "faroe 0.483\n",
            "salmon 0.359\n",
            "islands 0.34\n",
            "adrienne 0.176\n",
            "jacobsen 0.173\n",
            "murray 0.172\n",
            "rogvi 0.138\n",
            "bakkafrost 0.138\n",
            "fish 0.129\n",
            "faroese 0.125\n"
          ]
        }
      ],
      "source": [
        "idx=120\n",
        "keywords=get_keywords(idx)\n",
        "print_results(idx,keywords)"
      ]
    },
    {
      "cell_type": "markdown",
      "metadata": {
        "id": "gSjRtWCJXs6e"
      },
      "source": [
        "## Generate keywords for a batch of documents"
      ]
    },
    {
      "cell_type": "code",
      "execution_count": null,
      "metadata": {
        "id": "uu6vQxg4Xs6g"
      },
      "outputs": [],
      "source": [
        "#generate tf-idf for all documents in your list. docs_test has 500 documents\n",
        "tf_idf_vector=tfidf_transformer.transform(cv.transform(docs_test))\n",
        "\n",
        "results=[]\n",
        "for i in range(tf_idf_vector.shape[0]):\n",
        "    \n",
        "    # get vector for a single document\n",
        "    curr_vector=tf_idf_vector[i]\n",
        "    \n",
        "    #sort the tf-idf vector by descending order of scores\n",
        "    sorted_items=sort_coo(curr_vector.tocoo())\n",
        "\n",
        "    #extract only the top n; n here is 10\n",
        "    keywords=extract_topn_from_vector(feature_names,sorted_items,10)\n",
        "    \n",
        "    \n",
        "    results.append(keywords)\n",
        "\n",
        "df=pd.DataFrame(zip(docs,results),columns=['doc','keywords'])\n",
        "df.to_csv('output.csv')"
      ]
    }
  ],
  "metadata": {
    "celltoolbar": "Raw Cell Format",
    "kernelspec": {
      "display_name": "Python 3",
      "language": "python",
      "name": "python3"
    },
    "language_info": {
      "codemirror_mode": {
        "name": "ipython",
        "version": 3
      },
      "file_extension": ".py",
      "mimetype": "text/x-python",
      "name": "python",
      "nbconvert_exporter": "python",
      "pygments_lexer": "ipython3",
      "version": "3.6.5"
    },
    "colab": {
      "provenance": []
    }
  },
  "nbformat": 4,
  "nbformat_minor": 0
}